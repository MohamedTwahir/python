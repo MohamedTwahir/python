{
 "cells": [
  {
   "cell_type": "code",
   "execution_count": null,
   "id": "203fdd31-c522-4189-9334-a48591289e6a",
   "metadata": {},
   "outputs": [
    {
     "ename": "",
     "evalue": "",
     "output_type": "error",
     "traceback": [
      "\u001b[1;31mFailed to start the Kernel. \n",
      "\u001b[1;31mUnable to start Kernel 'Python 3.11.3' due to a timeout waiting for the ports to get used. \n",
      "\u001b[1;31mView Jupyter <a href='command:jupyter.viewOutput'>log</a> for further details."
     ]
    }
   ],
   "source": [
    "import matplotlib.pyplot as pyplot"
   ]
  },
  {
   "cell_type": "code",
   "execution_count": null,
   "id": "7391be8b-6c84-4aed-b63e-e3ca1decf5e1",
   "metadata": {},
   "outputs": [],
   "source": [
    "labels = ('Python', 'Scala', 'C#', 'Java', 'PHP')\n",
    "index = (1, 3, 5, 6, 8)\n",
    "sizes = [50, 20, 30, 40, 45]"
   ]
  },
  {
   "cell_type": "code",
   "execution_count": null,
   "id": "db22dd8f-21d6-4525-a54d-de8c3ce8e4d6",
   "metadata": {},
   "outputs": [],
   "source": [
    "pyplot.bar(index, sizes, tick_label=labels)\n",
    "pyplot.ylabel('Usage in 2023')\n",
    "pyplot.xlabel('Programming Languages')\n"
   ]
  },
  {
   "cell_type": "code",
   "execution_count": null,
   "id": "80a15896-edaa-4149-b7e7-b33ab0fd930f",
   "metadata": {},
   "outputs": [],
   "source": [
    "pyplot.show()"
   ]
  },
  {
   "cell_type": "code",
   "execution_count": null,
   "id": "af0b6b07-fb77-4e6e-a409-e5bf74d2305b",
   "metadata": {},
   "outputs": [],
   "source": []
  }
 ],
 "metadata": {
  "kernelspec": {
   "display_name": "Python 3 (ipykernel)",
   "language": "python",
   "name": "python3"
  },
  "language_info": {
   "name": "python",
   "version": "3.11.3"
  }
 },
 "nbformat": 4,
 "nbformat_minor": 5
}
